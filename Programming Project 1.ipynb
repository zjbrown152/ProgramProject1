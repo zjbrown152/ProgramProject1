{
 "cells": [
  {
   "cell_type": "markdown",
   "id": "8074fabf",
   "metadata": {},
   "source": [
    "# Programming Project 1\n",
    "<p>Author: Zane Brown<br>Version: 1<br>CS-150-01"
   ]
  },
  {
   "cell_type": "code",
   "execution_count": 1,
   "id": "8971836f",
   "metadata": {},
   "outputs": [
    {
     "name": "stdout",
     "output_type": "stream",
     "text": [
      "Do you want play rock, paper, scissors? yes\n",
      "Choose rock, paper, or scissors. Enter 'Quit' to end game rock\n",
      "Tie go again\n",
      "The computer played  rock\n",
      "Choose rock, paper, or scissors. Enter 'Quit' to end game paper\n",
      "Tie go again\n",
      "The computer played  paper\n",
      "Choose rock, paper, or scissors. Enter 'Quit' to end game paper\n",
      "Tie go again\n",
      "The computer played  paper\n",
      "Choose rock, paper, or scissors. Enter 'Quit' to end game rock\n",
      "Rock beats scissors.\n",
      " You won this round!\n",
      "The computer played  scissors\n",
      "Choose rock, paper, or scissors. Enter 'Quit' to end game scissors\n",
      "Tie go again\n",
      "The computer played  scissors\n",
      "Choose rock, paper, or scissors. Enter 'Quit' to end game paper\n",
      "You lost\n",
      "Choose rock, paper, or scissors. Enter 'Quit' to end game rock\n",
      "Tie go again\n",
      "The computer played  rock\n",
      "Choose rock, paper, or scissors. Enter 'Quit' to end game rock\n",
      "Tie go again\n",
      "The computer played  rock\n",
      "Choose rock, paper, or scissors. Enter 'Quit' to end game rock\n",
      "Tie go again\n",
      "The computer played  rock\n",
      "Choose rock, paper, or scissors. Enter 'Quit' to end game rock\n",
      "Tie go again\n",
      "The computer played  rock\n",
      "Choose rock, paper, or scissors. Enter 'Quit' to end game paper\n",
      "Tie go again\n",
      "The computer played  paper\n",
      "Choose rock, paper, or scissors. Enter 'Quit' to end game paper\n",
      "Tie go again\n",
      "The computer played  paper\n",
      "Choose rock, paper, or scissors. Enter 'Quit' to end game rock\n",
      "You lost\n",
      "Choose rock, paper, or scissors. Enter 'Quit' to end game rock\n",
      "Rock beats scissors.\n",
      " You won this round!\n",
      "The computer played  scissors\n",
      "Choose rock, paper, or scissors. Enter 'Quit' to end game scissors\n",
      "You lost\n",
      "Choose rock, paper, or scissors. Enter 'Quit' to end game scissors\n",
      "Scissors beats paper.\n",
      " You won this round!\n",
      "The computer played  paper\n",
      "Choose rock, paper, or scissors. Enter 'Quit' to end game quit\n",
      "Game over!\n",
      " You have won  3  games\n"
     ]
    }
   ],
   "source": [
    "import random\n",
    "game=[\"rock\", \"paper\", \"scissors\"]\n",
    "answer2=input(\"Do you want play rock, paper, scissors? \")\n",
    "count=0\n",
    "\n",
    "while answer2==\"yes\":\n",
    "    \n",
    "    x=random.choice(game)\n",
    "    answer=input(\"Choose rock, paper, or scissors. Enter \\'Quit' to end game \")\n",
    "    answer1=answer.lower()\n",
    "    if answer1==\"rock\" and x==\"scissors\":\n",
    "        count+=1\n",
    "        print(\"Rock beats scissors.\\n You won this round!\")\n",
    "        print(\"The computer played \",x)\n",
    "        \n",
    "    elif answer1==\"paper\" and x==\"rock\":\n",
    "        count+=1\n",
    "        print(\"Paper beats rock.\\n You won this round!\")\n",
    "        print(\"The computer played \",x)\n",
    "    elif answer1==\"scissors\" and x==\"paper\":\n",
    "        count+=1\n",
    "        print(\"Scissors beats paper.\\n You won this round!\")\n",
    "        print(\"The computer played \",x)\n",
    "    elif answer1==x:\n",
    "        print(\"Tie go again\")\n",
    "        print(\"The computer played \",x)\n",
    "    elif answer1==\"quit\":\n",
    "        print(\"Game over!\\n You have won \",count,\" games\")\n",
    "        break\n",
    "        \n",
    "    else:\n",
    "        print(\"You lost\")\n",
    "\n",
    "        \n",
    "        \n"
   ]
  },
  {
   "cell_type": "code",
   "execution_count": null,
   "id": "b5882b12",
   "metadata": {},
   "outputs": [],
   "source": []
  }
 ],
 "metadata": {
  "kernelspec": {
   "display_name": "Python 3",
   "language": "python",
   "name": "python3"
  },
  "language_info": {
   "codemirror_mode": {
    "name": "ipython",
    "version": 3
   },
   "file_extension": ".py",
   "mimetype": "text/x-python",
   "name": "python",
   "nbconvert_exporter": "python",
   "pygments_lexer": "ipython3",
   "version": "3.8.8"
  }
 },
 "nbformat": 4,
 "nbformat_minor": 5
}
